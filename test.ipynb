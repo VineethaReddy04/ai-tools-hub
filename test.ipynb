{
 "cells": [
  {
   "cell_type": "code",
   "execution_count": 1,
   "metadata": {},
   "outputs": [
    {
     "name": "stdout",
     "output_type": "stream",
     "text": [
      "The sum of 5 and 3 is: 8\n"
     ]
    }
   ],
   "source": [
    "# Function to add two numbers\n",
    "def add_numbers(a, b):\n",
    "    return a + b\n",
    "\n",
    "# Example usage\n",
    "num1 = 5\n",
    "num2 = 3\n",
    "result = add_numbers(num1, num2)\n",
    "print(f\"The sum of {num1} and {num2} is: {result}\")\n"
   ]
  },
  {
   "cell_type": "code",
   "execution_count": null,
   "metadata": {},
   "outputs": [],
   "source": [
    "# I am not sure how this part works. Can someone explain?\n",
    "# This is a comment explaining how the code in cell 1 works:\n",
    "\n",
    "# The code above defines a function called 'add_numbers' that takes two parameters (a and b)\n",
    "# When called, it simply returns their sum using the + operator\n",
    "\n",
    "# Then it demonstrates usage by:\n",
    "# 1. Creating two variables num1 and num2 with values 5 and 3\n",
    "# 2. Calling add_numbers() with those variables as arguments\n",
    "# 3. Storing the returned sum (8) in the 'result' variable\n",
    "# 4. Printing a formatted string showing the numbers and their sum\n",
    "\n",
    "# It's a basic example of:\n",
    "# - Function definition\n",
    "# - Parameter passing\n",
    "# - Return values\n",
    "# - String formatting with f-strings\n"
   ]
  },
  {
   "cell_type": "markdown",
   "metadata": {},
   "source": []
  },
  {
   "cell_type": "code",
   "execution_count": 8,
   "metadata": {},
   "outputs": [],
   "source": [
    "def calculate_factorial(n):\n",
    "    if n < 0:\n",
    "        return None  # Factorial is not defined for negative numbers\n",
    "    elif n == 0 or n == 1:\n",
    "        return 1\n",
    "    else:\n",
    "        return n * calculate_factorial(n - 1)\n",
    "\n",
    "        \n",
    "\n",
    "\n"
   ]
  },
  {
   "cell_type": "markdown",
   "metadata": {},
   "source": []
  },
  {
   "cell_type": "code",
   "execution_count": null,
   "metadata": {},
   "outputs": [],
   "source": [
    "def armstrong(n):\n",
    "    # Convert number to string to iterate through digits\n",
    "    num_str = str(n)\n",
    "    num_digits = len(num_str)\n",
    "    \n",
    "    # Calculate sum of each digit raised to power of number of digits\n",
    "    sum = 0\n",
    "    for digit in num_str:\n",
    "        sum += int(digit) ** num_digits\n",
    "        \n",
    "    # Return True if number is Armstrong number, False otherwise\n",
    "    return sum == n\n"
   ]
  },
  {
   "cell_type": "code",
   "execution_count": null,
   "metadata": {},
   "outputs": [],
   "source": []
  }
 ],
 "metadata": {
  "kernelspec": {
   "display_name": "Python 3",
   "language": "python",
   "name": "python3"
  },
  "language_info": {
   "codemirror_mode": {
    "name": "ipython",
    "version": 3
   },
   "file_extension": ".py",
   "mimetype": "text/x-python",
   "name": "python",
   "nbconvert_exporter": "python",
   "pygments_lexer": "ipython3",
   "version": "3.9.6"
  }
 },
 "nbformat": 4,
 "nbformat_minor": 2
}
